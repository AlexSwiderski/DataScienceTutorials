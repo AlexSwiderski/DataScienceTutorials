{
 "cells": [
  {
   "attachments": {},
   "cell_type": "markdown",
   "metadata": {},
   "source": [
    "### Data Science\n",
    "Though a somewhat vague term, a data scientist\n"
   ]
  },
  {
   "cell_type": "code",
   "execution_count": 3,
   "metadata": {},
   "outputs": [
    {
     "ename": "ERROR",
     "evalue": "Error in Image(url = \"https://intellipaat.com/blog/wp-content/uploads/2016/11/What-is-Data-Science.docx.jpg\"): could not find function \"Image\"\n",
     "output_type": "error",
     "traceback": [
      "Error in Image(url = \"https://intellipaat.com/blog/wp-content/uploads/2016/11/What-is-Data-Science.docx.jpg\"): could not find function \"Image\"\nTraceback:\n"
     ]
    }
   ],
   "source": [
    "Image(url='https://intellipaat.com/blog/wp-content/uploads/2016/11/What-is-Data-Science.docx.jpg')"
   ]
  },
  {
   "cell_type": "code",
   "execution_count": null,
   "metadata": {},
   "outputs": [],
   "source": []
  }
 ],
 "metadata": {
  "kernelspec": {
   "display_name": "R",
   "language": "R",
   "name": "ir"
  },
  "language_info": {
   "codemirror_mode": "r",
   "file_extension": ".r",
   "mimetype": "text/x-r-source",
   "name": "R",
   "pygments_lexer": "r",
   "version": "3.6.1"
  }
 },
 "nbformat": 4,
 "nbformat_minor": 4
}
