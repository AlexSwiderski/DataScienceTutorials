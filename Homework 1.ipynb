{
 "cells": [
  {
   "cell_type": "markdown",
   "metadata": {},
   "source": [
    "1. In the book, Introduction to statistical learning, James et al introduce f as a function.  In a couple of sentences explain the the two of estimating f.  Provide an example of each in a clinical context that we have discussed together or on a topic you have learned in class.  Do **NOT** use the diamonds data set as an example. Note that your examples should be within the same context.\n"
   ]
  },
  {
   "cell_type": "markdown",
   "metadata": {},
   "source": [
    "2. Define a normal distribution. What are the two parameters that define a normal distribution?  After defining a normal distribution, please simulate:\n",
    "    1. a normal distribution with 1000 draws, a mean of 0 and a standard deviation of 2.  Then, use the hist() function to plot the data.\n",
    "    2. A normal distribution with 100 draws, a mean of 5 and a standard deviation of 2.  Plot the output with hist.\n",
    "    3. A normal distribution with 500 draws, a mean of -10 and a standard deviatio of 5. "
   ]
  },
  {
   "cell_type": "markdown",
   "metadata": {},
   "source": [
    "3. Which of the normal distributions defined in question 2 have the largest variance? The smallest? Explain how you estimated variance from the information provided above."
   ]
  },
  {
   "cell_type": "markdown",
   "metadata": {},
   "source": [
    "4. Load the diamonds data frame into R and label it a simple name eg diamonds, df, data, df1, etc.  Utilize r language to answer the following questions.  See Intro to statistical learning or R4DS for help. *Note, you must load the ggplot2 library prior to creating the diamonds dataframe\n",
    "    1. What is the length of the dataframe?\n",
    "    2. What is the mean and standard deviation of the carat variable?\n",
    "    3. What is the range of the price variable?\n",
    "    4. When you run the mean function on the color variable what happens?  Why does this outcome occur?\n",
    "    5. What is the command to get descriptive statistics of all variables in this dataframe?\n"
   ]
  },
  {
   "cell_type": "markdown",
   "metadata": {},
   "source": [
    "5. What assumptions must be met to utilize linear regression?"
   ]
  },
  {
   "cell_type": "markdown",
   "metadata": {},
   "source": [
    "6. In your own words explain what the bias-variance trade off is? Provide an example as to why this is important in the context such as a new drug being tested for covid19."
   ]
  },
  {
   "cell_type": "markdown",
   "metadata": {},
   "source": [
    "7. Define variance in your own words.  Provide an example of a variable with low variance and another with high variance.  You do not need to provide real data, or code this in R."
   ]
  },
  {
   "cell_type": "markdown",
   "metadata": {},
   "source": [
    "8. Define Residual standard error and total sum of squares.  What do these estimates mean in your own words?"
   ]
  },
  {
   "cell_type": "markdown",
   "metadata": {},
   "source": [
    "9.  $ \\ r^2 \\ $ is a commonly used statistic to interpret linear regression.  What is the interpretation of $ \\ r^2 \\ $?  What is the range? Is a \"good\" $ \\ r^2 \\ $ high or low?"
   ]
  },
  {
   "cell_type": "markdown",
   "metadata": {},
   "source": [
    "### Linear regression practice"
   ]
  },
  {
   "cell_type": "markdown",
   "metadata": {},
   "source": [
    "In the following prompts you will work with numerous data sets to practice working with linear regression. Load the MASS library to access the Boston data set.  After loading MASS library, name the Boston data set df_b. Type and run ?Boston to gain an understanding of each variable in the data set. \n",
    "    1. Provide summary statistics of df_b.  "
   ]
  },
  {
   "cell_type": "markdown",
   "metadata": {},
   "source": [
    "#### Linear regression 1\n",
    "   1. create a linear model (linear regression model) and predict medv from lstat.\n",
    "   2. What is the estimate for the intercept and lstat? \n",
    "   3. What is the adjusted $\\ r^2 \\$? What does this estimate mean?"
   ]
  },
  {
   "cell_type": "markdown",
   "metadata": {},
   "source": [
    "#### Linear regression 2\n",
    "   1. Create a linear model with two predictors (lstat and age) with medv as the dependent variable.\n",
    "   2. What is the estimate for the intercept and lstat? \n",
    "   3. What is the adjusted $ \\ r^2  \\ $? What does this estimate mean?\n",
    "   4. By comparing the $ \\ r^2 \\ $ values from the linear regression model 1 and the linear regression model 2, is there a benefit of adding age as a predictor variable? Justify your answer."
   ]
  },
  {
   "cell_type": "markdown",
   "metadata": {},
   "source": [
    "#### Linear regression 3:\n",
    "   1. Load the ISLR library\n",
    "   2. Create a variable named df_cars from the Auto data set.\n",
    "   3. Create a linear model with miles per gallon as the outcome variable and a variable of your chosing as the predictor.  \n",
    "       i. Is there a relationship between the predictor and the outcome variable? Provide concrete evidence in terms of the $ \\ r^2 \\ $ and p value.  \n",
    "   4. Now create a linear model with all the variables except name as predictors.\n",
    "       i. What does the coefficient for the year variable suggest?\n",
    "       ii. What ist the estimate for the adjust $ \\ r^2 \\ $ and what is the interpretation of this statistic as it pertains to this model/data."
   ]
  },
  {
   "cell_type": "markdown",
   "metadata": {},
   "source": [
    "#### Linear regression 4\n",
    "   1. Load the Carseats dataset and provide summary statistics. Name the dataset something simple of your chosing.\n",
    "   2. Type and run ?Carseats for an explanation of each variable\n",
    "   3. Fit a multiple linear regressin with sales as the outcome variable and price, urban, and US as the predictors. \n",
    "   4. Interpret the above monel and provide an interpretation fo each coefficient and the adj $ \\ r^2 \\ $"
   ]
  }
 ],
 "metadata": {
  "kernelspec": {
   "display_name": "R",
   "language": "R",
   "name": "ir"
  },
  "language_info": {
   "codemirror_mode": "r",
   "file_extension": ".r",
   "mimetype": "text/x-r-source",
   "name": "R",
   "pygments_lexer": "r",
   "version": "3.6.1"
  }
 },
 "nbformat": 4,
 "nbformat_minor": 4
}
